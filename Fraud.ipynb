{
 "cells": [
  {
   "cell_type": "code",
   "execution_count": 10,
   "id": "1711d48b-a11f-4cdf-a894-d486d7397f4c",
   "metadata": {},
   "outputs": [],
   "source": [
    "import os\n",
    "import numpy as np \n",
    "import pandas as pd\n",
    "import matplotlib.pyplot as plt\n",
    "import seaborn as sns\n",
    "from sklearn import preprocessing\n",
    "from sklearn.ensemble import IsolationForest\n",
    "from sklearn import model_selection\n",
    "from sklearn.metrics import mean_squared_error\n",
    "import warnings\n",
    "warnings.filterwarnings('ignore')"
   ]
  },
  {
   "cell_type": "code",
   "execution_count": 11,
   "id": "3ee7c48b-c396-4a06-9732-602638d37494",
   "metadata": {},
   "outputs": [
    {
     "name": "stdout",
     "output_type": "stream",
     "text": [
      "1048317\n",
      "449635\n"
     ]
    },
    {
     "data": {
      "text/html": [
       "<div>\n",
       "<style scoped>\n",
       "    .dataframe tbody tr th:only-of-type {\n",
       "        vertical-align: middle;\n",
       "    }\n",
       "\n",
       "    .dataframe tbody tr th {\n",
       "        vertical-align: top;\n",
       "    }\n",
       "\n",
       "    .dataframe thead th {\n",
       "        text-align: right;\n",
       "    }\n",
       "</style>\n",
       "<table border=\"1\" class=\"dataframe\">\n",
       "  <thead>\n",
       "    <tr style=\"text-align: right;\">\n",
       "      <th></th>\n",
       "      <th>type</th>\n",
       "      <th>amount</th>\n",
       "      <th>oldbalanceOrg</th>\n",
       "      <th>newbalanceOrig</th>\n",
       "      <th>oldbalanceDest</th>\n",
       "      <th>newbalanceDest</th>\n",
       "      <th>isFraud</th>\n",
       "      <th>isFlaggedFraud</th>\n",
       "    </tr>\n",
       "  </thead>\n",
       "  <tbody>\n",
       "    <tr>\n",
       "      <th>0</th>\n",
       "      <td>PAYMENT</td>\n",
       "      <td>9839.64</td>\n",
       "      <td>170136.00</td>\n",
       "      <td>160296.36</td>\n",
       "      <td>0.00</td>\n",
       "      <td>0.00</td>\n",
       "      <td>0</td>\n",
       "      <td>0</td>\n",
       "    </tr>\n",
       "    <tr>\n",
       "      <th>1</th>\n",
       "      <td>PAYMENT</td>\n",
       "      <td>1864.28</td>\n",
       "      <td>21249.00</td>\n",
       "      <td>19384.72</td>\n",
       "      <td>0.00</td>\n",
       "      <td>0.00</td>\n",
       "      <td>0</td>\n",
       "      <td>0</td>\n",
       "    </tr>\n",
       "    <tr>\n",
       "      <th>2</th>\n",
       "      <td>TRANSFER</td>\n",
       "      <td>181.00</td>\n",
       "      <td>181.00</td>\n",
       "      <td>0.00</td>\n",
       "      <td>0.00</td>\n",
       "      <td>0.00</td>\n",
       "      <td>1</td>\n",
       "      <td>0</td>\n",
       "    </tr>\n",
       "    <tr>\n",
       "      <th>3</th>\n",
       "      <td>CASH_OUT</td>\n",
       "      <td>181.00</td>\n",
       "      <td>181.00</td>\n",
       "      <td>0.00</td>\n",
       "      <td>21182.00</td>\n",
       "      <td>0.00</td>\n",
       "      <td>1</td>\n",
       "      <td>0</td>\n",
       "    </tr>\n",
       "    <tr>\n",
       "      <th>4</th>\n",
       "      <td>PAYMENT</td>\n",
       "      <td>11668.14</td>\n",
       "      <td>41554.00</td>\n",
       "      <td>29885.86</td>\n",
       "      <td>0.00</td>\n",
       "      <td>0.00</td>\n",
       "      <td>0</td>\n",
       "      <td>0</td>\n",
       "    </tr>\n",
       "    <tr>\n",
       "      <th>...</th>\n",
       "      <td>...</td>\n",
       "      <td>...</td>\n",
       "      <td>...</td>\n",
       "      <td>...</td>\n",
       "      <td>...</td>\n",
       "      <td>...</td>\n",
       "      <td>...</td>\n",
       "      <td>...</td>\n",
       "    </tr>\n",
       "    <tr>\n",
       "      <th>1048570</th>\n",
       "      <td>CASH_OUT</td>\n",
       "      <td>132557.35</td>\n",
       "      <td>479803.00</td>\n",
       "      <td>347245.65</td>\n",
       "      <td>484329.37</td>\n",
       "      <td>616886.72</td>\n",
       "      <td>0</td>\n",
       "      <td>0</td>\n",
       "    </tr>\n",
       "    <tr>\n",
       "      <th>1048571</th>\n",
       "      <td>PAYMENT</td>\n",
       "      <td>9917.36</td>\n",
       "      <td>90545.00</td>\n",
       "      <td>80627.64</td>\n",
       "      <td>0.00</td>\n",
       "      <td>0.00</td>\n",
       "      <td>0</td>\n",
       "      <td>0</td>\n",
       "    </tr>\n",
       "    <tr>\n",
       "      <th>1048572</th>\n",
       "      <td>PAYMENT</td>\n",
       "      <td>14140.05</td>\n",
       "      <td>20545.00</td>\n",
       "      <td>6404.95</td>\n",
       "      <td>0.00</td>\n",
       "      <td>0.00</td>\n",
       "      <td>0</td>\n",
       "      <td>0</td>\n",
       "    </tr>\n",
       "    <tr>\n",
       "      <th>1048573</th>\n",
       "      <td>PAYMENT</td>\n",
       "      <td>10020.05</td>\n",
       "      <td>90605.00</td>\n",
       "      <td>80584.95</td>\n",
       "      <td>0.00</td>\n",
       "      <td>0.00</td>\n",
       "      <td>0</td>\n",
       "      <td>0</td>\n",
       "    </tr>\n",
       "    <tr>\n",
       "      <th>1048574</th>\n",
       "      <td>PAYMENT</td>\n",
       "      <td>11450.03</td>\n",
       "      <td>80584.95</td>\n",
       "      <td>69134.92</td>\n",
       "      <td>0.00</td>\n",
       "      <td>0.00</td>\n",
       "      <td>0</td>\n",
       "      <td>0</td>\n",
       "    </tr>\n",
       "  </tbody>\n",
       "</table>\n",
       "<p>1048575 rows × 8 columns</p>\n",
       "</div>"
      ],
      "text/plain": [
       "             type     amount  oldbalanceOrg  newbalanceOrig  oldbalanceDest  \\\n",
       "0         PAYMENT    9839.64      170136.00       160296.36            0.00   \n",
       "1         PAYMENT    1864.28       21249.00        19384.72            0.00   \n",
       "2        TRANSFER     181.00         181.00            0.00            0.00   \n",
       "3        CASH_OUT     181.00         181.00            0.00        21182.00   \n",
       "4         PAYMENT   11668.14       41554.00        29885.86            0.00   \n",
       "...           ...        ...            ...             ...             ...   \n",
       "1048570  CASH_OUT  132557.35      479803.00       347245.65       484329.37   \n",
       "1048571   PAYMENT    9917.36       90545.00        80627.64            0.00   \n",
       "1048572   PAYMENT   14140.05       20545.00         6404.95            0.00   \n",
       "1048573   PAYMENT   10020.05       90605.00        80584.95            0.00   \n",
       "1048574   PAYMENT   11450.03       80584.95        69134.92            0.00   \n",
       "\n",
       "         newbalanceDest  isFraud  isFlaggedFraud  \n",
       "0                  0.00        0               0  \n",
       "1                  0.00        0               0  \n",
       "2                  0.00        1               0  \n",
       "3                  0.00        1               0  \n",
       "4                  0.00        0               0  \n",
       "...                 ...      ...             ...  \n",
       "1048570       616886.72        0               0  \n",
       "1048571            0.00        0               0  \n",
       "1048572            0.00        0               0  \n",
       "1048573            0.00        0               0  \n",
       "1048574            0.00        0               0  \n",
       "\n",
       "[1048575 rows x 8 columns]"
      ]
     },
     "execution_count": 11,
     "metadata": {},
     "output_type": "execute_result"
    }
   ],
   "source": [
    "df = pd.read_csv('Fraud.csv')\n",
    "m = len(pd.unique(df['nameOrig']))\n",
    "n = len(pd.unique(df['nameDest']))\n",
    "print(m)\n",
    "print(n)\n",
    "\n",
    "# df\n",
    "\n",
    "df.drop([\"step\"], axis=1, inplace=True)\n",
    "df.drop([\"nameOrig\"], axis=1, inplace=True)\n",
    "df.drop([\"nameDest\"], axis=1, inplace=True)\n",
    "df"
   ]
  },
  {
   "cell_type": "markdown",
   "id": "d7734ddb-0f14-4e2f-be84-85496b7d1d8d",
   "metadata": {},
   "source": [
    "# EDA and Preprocessing\n",
    "\n",
    "Note that there are 1,048,317 distinct entries for the *nameOrig* column, which means that almost all original customers are distinct. Therefore, *nameOrig* will not be an important feature for modeling.\n",
    "\n",
    "Note that there are 449,635 distinct entries for the *nameDest* column. which means there are many customers that are receiving multiple transactions. Having quickly skimmed a few thousand columns, it does not appear that any receiving customer stands out in committing fraud. Furthermore, given that there are a still 449,635 entries of distinct customers receiving money, encoding these as categorical variables does not seem to make much sense (usually categorical variables do not have this many categories). Hence, *nameDest* will not be an important feature for modeling.\n",
    "\n",
    "Lastly, the *step* column has also been dropped. While it is possible that certain hours of real world time may have more fraud occurrences - for example, it could be that fraud occurs more often during the night than during the day - it does not intuitively appear to be an important predictor."
   ]
  },
  {
   "cell_type": "code",
   "execution_count": 3,
   "id": "3f53499b-ec10-4791-bbba-74d1785b001e",
   "metadata": {},
   "outputs": [
    {
     "data": {
      "text/plain": [
       "type              0\n",
       "amount            0\n",
       "oldbalanceOrg     0\n",
       "newbalanceOrig    0\n",
       "oldbalanceDest    0\n",
       "newbalanceDest    0\n",
       "isFraud           0\n",
       "isFlaggedFraud    0\n",
       "dtype: int64"
      ]
     },
     "execution_count": 3,
     "metadata": {},
     "output_type": "execute_result"
    }
   ],
   "source": [
    "df.isnull().sum()\n",
    "\n",
    "# There appear to be no missing values in the dataset"
   ]
  },
  {
   "cell_type": "code",
   "execution_count": 4,
   "id": "9c53ac1d-10e8-4ecd-9a44-63beb11dc6c0",
   "metadata": {},
   "outputs": [
    {
     "data": {
      "text/plain": [
       "<AxesSubplot:>"
      ]
     },
     "execution_count": 4,
     "metadata": {},
     "output_type": "execute_result"
    },
    {
     "data": {
      "image/png": "[encoded data removed]",
      "text/plain": [
       "<Figure size 432x288 with 1 Axes>"
      ]
     },
     "metadata": {
      "needs_background": "light"
     },
     "output_type": "display_data"
    }
   ],
   "source": [
    "pd.DataFrame(df['amount']).boxplot()\n",
    "\n",
    "# NOTE: These plots are only to see the skewness of the columns in order to transform data"
   ]
  },
  {
   "cell_type": "code",
   "execution_count": 5,
   "id": "e349ddfe-a4c3-458e-843b-1d66d60f1ec3",
   "metadata": {},
   "outputs": [
    {
     "data": {
      "text/plain": [
       "<AxesSubplot:>"
      ]
     },
     "execution_count": 5,
     "metadata": {},
     "output_type": "execute_result"
    },
    {
     "data": {
      "image/png": "[encoded data removed]",
      "text/plain": [
       "<Figure size 432x288 with 1 Axes>"
      ]
     },
     "metadata": {
      "needs_background": "light"
     },
     "output_type": "display_data"
    }
   ],
   "source": [
    "pd.DataFrame(df['oldbalanceOrg']).boxplot()"
   ]
  },
  {
   "cell_type": "code",
   "execution_count": 6,
   "id": "ef59a668-90be-447e-a746-536acb3eb640",
   "metadata": {},
   "outputs": [
    {
     "data": {
      "text/plain": [
       "<AxesSubplot:>"
      ]
     },
     "execution_count": 6,
     "metadata": {},
     "output_type": "execute_result"
    },
    {
     "data": {
      "image/png": "[encoded data removed]",
      "text/plain": [
       "<Figure size 432x288 with 1 Axes>"
      ]
     },
     "metadata": {
      "needs_background": "light"
     },
     "output_type": "display_data"
    }
   ],
   "source": [
    "pd.DataFrame(df['newbalanceOrig']).boxplot()"
   ]
  },
  {
   "cell_type": "code",
   "execution_count": 7,
   "id": "6cde95ac-c81a-4fc2-80ad-0e86631de150",
   "metadata": {},
   "outputs": [
    {
     "data": {
      "text/plain": [
       "<AxesSubplot:>"
      ]
     },
     "execution_count": 7,
     "metadata": {},
     "output_type": "execute_result"
    },
    {
     "data": {
      "image/png": "[encoded data removed]",
      "text/plain": [
       "<Figure size 432x288 with 1 Axes>"
      ]
     },
     "metadata": {
      "needs_background": "light"
     },
     "output_type": "display_data"
    }
   ],
   "source": [
    "pd.DataFrame(df['oldbalanceDest']).boxplot()"
   ]
  },
  {
   "cell_type": "code",
   "execution_count": 8,
   "id": "130963fd-a94a-4b2b-ab6b-c3015105540d",
   "metadata": {},
   "outputs": [
    {
     "data": {
      "text/plain": [
       "<AxesSubplot:>"
      ]
     },
     "execution_count": 8,
     "metadata": {},
     "output_type": "execute_result"
    },
    {
     "data": {
      "image/png": "[encoded data removed]",
      "text/plain": [
       "<Figure size 432x288 with 1 Axes>"
      ]
     },
     "metadata": {
      "needs_background": "light"
     },
     "output_type": "display_data"
    }
   ],
   "source": [
    "pd.DataFrame(df['newbalanceDest']).boxplot()"
   ]
  },
  {
   "cell_type": "code",
   "execution_count": 9,
   "id": "aaa36d33-fe27-46ed-b62d-4b1201400228",
   "metadata": {},
   "outputs": [
    {
     "data": {
      "image/png": "[encoded data removed]",
      "text/plain": [
       "<Figure size 1152x432 with 2 Axes>"
      ]
     },
     "metadata": {
      "needs_background": "light"
     },
     "output_type": "display_data"
    }
   ],
   "source": [
    "## Triangle Correlation Matrix\n",
    "\n",
    "plt.figure(figsize=(16, 6))\n",
    "\n",
    "# define the mask to set the values in the upper triangle to True\n",
    "\n",
    "mask = np.triu(np.ones_like(df.corr(), dtype=np.bool))\n",
    "heatmap = sns.heatmap(df.corr(), mask=mask, vmin=-1, vmax=1, annot=False, cmap='BrBG')\n",
    "heatmap.set_title('Triangle Correlation Heatmap', fontdict={'fontsize':10}, pad=16);"
   ]
  },
  {
   "cell_type": "markdown",
   "id": "4607816e-6943-4497-9c9d-28ecd60ef090",
   "metadata": {},
   "source": [
    "# Multicollinearity\n",
    "\n",
    "There is clear multicollinearity between *newbalanceOrig* and *oldbalanceOrg*, *newbalanceDest* and *oldbalanceDest*. There is also a fair bit of collinearity between *amount* and *newbalanceDest*. The collinearity occurs because there is a link between most of these variables, i.e. theoretically, *amount* = *oldbalanceOrg* - *newbalanceOrig*, unless the amount exceeds the *oldbalanceOrg*, in which case the account of the sender should drain to 0 (some cases are exceptions).\n",
    "\n",
    "Similarly, theoretically, *amount* = *newbalanceDest* - *oldbalanceDest* = *oldbalanceOrg* - *newbalanceOrig*, as that is the amount of money transferred over to the new account. Note that this is also not perfect; there are cases which do not follow this."
   ]
  },
  {
   "cell_type": "markdown",
   "id": "05a40a29-794d-4748-b3e2-0f65dd4e5f27",
   "metadata": {},
   "source": [
    "I have not been able to finish the assignment for the internship position due to other commitments; I was not able to transform the data and run a IsolationForest regressor which would be the most adequate for this dataset; the IsolationForest algorithm is a tree-based method that calculates the anomaly score (in this case it is the occurrence of fraud.\n",
    "\n",
    "The IsolationForest essentially ‘isolates’ observations by randomly selecting a feature and then randomly selecting a split value between the maximum and minimum values of the selected feature. I would've run it with *type*, *amount* and one of the two collinear variable pairs above (remove one from each gets rid of collinearity). The fraud occurrences appear to be when the account of the sender has a positive quantity and the values of *amount* matches this, causing the account to drain exactly to 0 (generally). However, this does not mean that if the account is drained exactly to 0, then fraud has occured. Should the company update its infrastructure, there should not be a huge issue in how the fraud prediction changes as IsolationForest is quite a scalable method. We can test that the changes that are to be made by training on the dataset and observing the new *isFlaggedFraud* values and compare against the *isFraud* to determine how effective the method is. Although I haven't formally carried this out, I believe the *amount* will be the most important covariate out of all the covariates presented.\n",
    "\n",
    "Despite the deadline having passed, I will work on this dataset and explore further for my own curiosity."
   ]
  },
  {
   "cell_type": "code",
   "execution_count": null,
   "id": "6cfca7f9-ba62-4299-90d1-0a80c0d63449",
   "metadata": {},
   "outputs": [],
   "source": []
  }
 ],
 "metadata": {
  "kernelspec": {
   "display_name": "Python 3 (ipykernel)",
   "language": "python",
   "name": "python3"
  },
  "language_info": {
   "codemirror_mode": {
    "name": "ipython",
    "version": 3
   },
   "file_extension": ".py",
   "mimetype": "text/x-python",
   "name": "python",
   "nbconvert_exporter": "python",
   "pygments_lexer": "ipython3",
   "version": "3.10.6"
  }
 },
 "nbformat": 4,
 "nbformat_minor": 5
}
